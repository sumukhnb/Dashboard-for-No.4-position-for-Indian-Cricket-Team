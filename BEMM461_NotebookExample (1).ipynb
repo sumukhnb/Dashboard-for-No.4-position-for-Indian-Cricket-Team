{
 "cells": [
  {
   "cell_type": "markdown",
   "metadata": {},
   "source": [
    "# Coursework Example for BEMM461 Project \n",
    "\n",
    "## Introduction\n",
    "This jupyter notebook provides an example for the BEMM461 project coursework, second submission.  Students are cautioned against following the example slavishly, but to pick out elements that can help support their understanding of what they can do.\n",
    "\n",
    "## Table of Links\n",
    "### Table\n",
    "| Description | Link |\n",
    "| -- | -- |\n",
    "| Reflective blog | https://ele.exeter.ac.uk/mod/oublog/view.php?id=2698275 |\n",
    "| Chosen Dataset | https://www.espncricinfo.com/cricketers/kl-rahul-422108, https://www.espncricinfo.com/cricketers/shreyas-iyer-642519, https://www.espncricinfo.com/cricketers/suryakumar-yadav-446507 |\n",
    "\n",
    "## Table of Contents\n",
    "1. Executive Summary\n",
    "2. Project Dashboard\n",
    "3. Background to the Project\n",
    "4. Articulation of Decision Making Process\n",
    "5. Review of Analytics Methods Chosen\n",
    "6. Review of Available Tools\n",
    "7. Review of Chosen Datasets \n",
    "8. Visualisation of Data with Accompanying Code\n",
    "9. Reflective Evaluation\n",
    "10. Conclusion\n"
   ]
  },
  {
   "cell_type": "markdown",
   "metadata": {},
   "source": [
    "## 1. Executive Summary\n",
    "\n",
    "The BEMM461 Analytics and Visualization project, culminating in this comprehensive notebook, has been a journey into the field of cricket analytics, unboxing the details of player statistics. The central focus of this project revolves around a critical decision-making process—determining the ideal candidate for the volatile No. 4 position in the Indian cricket team in the T-20 format of the sport . The culmination of efforts is encapsulated in a key visualization presented in this notebook, representing a blend of knowledge and skills acquired during this term.\n",
    "\n",
    "To provide a contextual backdrop, the project acknowledges the significance of the No. 4 position in cricket and why it is important to select one particular player instead of constantly changing as per conditions of the game. This position demands a delicate balance of consistency, adaptability, and strategic judgement to stabilize innings and anchor diverse match situations effectively. The decision-making process involves a nuanced evaluation of player statistics, emphasizing key criteria such as Runs scored in different conditions, Batting averages, and Strike rates.\n",
    "\n",
    "For selecting one particular player, the notebook meticulously compares the statistics of three prolific players—KL Rahul, Shreyas Iyer, and Suryakumar Yadav as these are the players who are usually selected and suitable for the No.4 Position in the batting line-up. It unveils their respective performance trajectories, revealing distinctive patterns in runs scored and batting averages over time. The comparative analysis extends beyond conventional metrics, exploring the Players' adaptability and contributions in different match scenarios.\n",
    "\n",
    "The crux of the executive summary lies in articulating why Suryakumar Yadav emerges as the most suitable candidate for the No. 4 position. A closer examination of his statistics reveals a narrative of consistency, versatility, and an ability to sustain under pressure. Suryakumar Yadav's performance metrics not only match but often surpass those of KL Rahul and Shreyas Iyer, especially in the Limited 20 over format.\n",
    "\n",
    "The project ensures rigor by subjecting the chosen analytics methods and tools to a comprehensive review. From line charts illustrating trends in runs scored to dynamic scatter plots providing a granular view of averages and strike rates, each visualization method is particularly selected to offer a multi-dimensional perspective. The Python programming language, coupled with the Dash framework and Plotly Express, serves as the backbone, providing a robust and versatile platform for data manipulation and visualization.\n",
    "\n",
    "The journey of this project is encapsulated in a reflective blog, offering insights into encountered challenges, lessons learned, and the evolution of methodologies. The conclusion serves as a comprehensive summary, highlighting key findings, outcomes, and the reason behind choosing Suryakumar Yadav as the permanent No. 4 position.\n",
    "\n",
    "Throughout the document, transparent access to the utilized datasets and Python code provides an environment of openness and collaboration. The References cited validate the methodologies employed and contribute to the robustness of the presented work. In essence, this executive summary sets the stage for a deeper exploration of Cricket analytics, providing a deeper understanding of player performances and guiding the pivotal decision-making process for the No. 4 position in the Indian cricket team.\n",
    "\n",
    "\n"
   ]
  },
  {
   "cell_type": "markdown",
   "metadata": {},
   "source": [
    "## 2. Project Dashboard\n",
    "The interactive web-based dashboard developed with Dash Python framework represents a pivotal tool for decision-making and strategic analysis in the area of cricket player performance and helps the Cricket team Coach and the Manager to suitably find a player for the selected position. Aligning with principles emphasized by Wayn Eckerson, the dashboard follows the Monitor-Analyse-Drill approach, offering a multi-layered experience for users as explained below.\n",
    "\n",
    "At the monitoring level, the dashboard provides a high-level overview of key performance indicators (KPIs) for cricket players KL Rahul, Shreyas Iyer, and Suryakumar Yadav. Through intuitive visualizations, users can instantly grasp trends, anomalies, and comparative insights. Iconic elements aid in effective perception, ensuring that critical information is readily perceived and retained in short-term memory. This dashboard is in accordance with the theory stated by Nelson Cowan which says that the memory is limited to about 4 chunks of data. The graphs in this dashboard are easy to analyse and looks less complicated to comprehend.\n",
    "\n",
    "Moving to the analysis layer, the dashboard delves deeper into player statistics, offering a summarized yet detailed perspective. Users can explore aggregated data on Runs, Averages, and Strike rates scored in different scenarios enabling a better understanding of each player's performance. This layer caters to the audience's need for concise yet informative summaries, facilitating a more in-depth analysis tailored to specific requirements of the game. In this case, the audience are the Head Coach and the Managers of the Indian Cricket team.\n",
    "\n",
    "The drill-down feature takes users to the detailed layer, allowing for a comprehensive exploration of individual player statistics. Managers and Coaches can interactively investigate specific matches, Innings, or boundary percentages, gaining granular insights into player performances. This layered structure ensures that the dashboard accommodates varying levels of analytical depth, empowering users to extract relevant information.\n",
    "\n",
    "As goes the saying, Technology-assisted humans are more powerful at processing information and making decisions than Technology or Humans alone. In essence, the web-based dashboard optimizes human memory and perception by presenting information in a visually impactful and organized manner. It strategically leverages the capabilities of web-based platforms, offering a user-friendly interface for efficient decision-making. The combination of concise monitoring, detailed analysis, and interactive drill-down capabilities positions the dashboard as an invaluable tool for cricket enthusiasts, Team managers and Coaches.\n"
   ]
  },
  {
   "cell_type": "code",
   "execution_count": 4,
   "metadata": {},
   "outputs": [
    {
     "name": "stdout",
     "output_type": "stream",
     "text": [
      "Click on the below link to view the complete dashboard!!\n",
      "Dashboard URL: http://127.0.0.1:8095/\n"
     ]
    },
    {
     "data": {
      "text/html": [
       "\n",
       "        <iframe\n",
       "            width=\"100%\"\n",
       "            height=\"650\"\n",
       "            src=\"http://127.0.0.1:8095/\"\n",
       "            frameborder=\"0\"\n",
       "            allowfullscreen\n",
       "        ></iframe>\n",
       "        "
      ],
      "text/plain": [
       "<IPython.lib.display.IFrame at 0x184a9cdcee0>"
      ]
     },
     "metadata": {},
     "output_type": "display_data"
    }
   ],
   "source": [
    "import os\n",
    "import pandas as pd\n",
    "import dash\n",
    "from dash import dcc, html\n",
    "from dash.dependencies import Input, Output\n",
    "import plotly.express as px\n",
    "\n",
    "# Load data from Excel sheets\n",
    "excel_file_path = 'mydata1.xlsx'\n",
    "excel_data1 = pd.read_excel(excel_file_path, sheet_name='KL Rahul')\n",
    "excel_data2 = pd.read_excel(excel_file_path, sheet_name='Shreyas Iyer')\n",
    "excel_data3 = pd.read_excel(excel_file_path, sheet_name='SKY')\n",
    "\n",
    "# Data for the bar chart\n",
    "sheet_names = ['KL Rahul', 'Shreyas Iyer', 'SKY']\n",
    "data_frames = [pd.read_excel(excel_file_path, sheet_name=sheet_name) for sheet_name in sheet_names]\n",
    "result_df = pd.concat(data_frames, keys=sheet_names)\n",
    "\n",
    "# Get the absolute path to the image file\n",
    "image_path = os.path.join(os.getcwd(), 'path', 'to', 'your', 'Team Picture.png')\n",
    "\n",
    "# Initialize Dash app\n",
    "app = dash.Dash(__name__)\n",
    "\n",
    "# Define app layout\n",
    "app.layout = html.Div([\n",
    "    # Background image for the entire dashboard\n",
    "    html.Div([\n",
    "       html.Img(src=\"assets/Indiapic.png\", style={'display': 'none'}),  # Hide the image\n",
    "   ],\n",
    "   style={\n",
    "       'backgroundImage': 'url(assets/Indiapic.png)',\n",
    "       'backgroundSize': 'cover',\n",
    "       'opacity': 0.5,\n",
    "       'position': 'fixed',\n",
    "       'top': 0,\n",
    "       'left': 0,\n",
    "       'width': '100%',\n",
    "       'height': '100%',\n",
    "   }),\n",
    "    html.H1(\"WHO'S NO.4????\", style={'textAlign': 'center', 'font-size':'50px','color':'#000000', 'left': '50%'}),\n",
    "    html.Div([\n",
    "        dcc.Graph(id='line-chart'),\n",
    "    ], style={'display': 'inline-block', 'width': '50%', 'opacity': 0.74}),\n",
    "    html.Div([\n",
    "        dcc.Graph(id='bar-chart'),\n",
    "    ], style={'display': 'inline-block', 'width': '50%', 'opacity': 0.74}),\n",
    "    html.Div([\n",
    "        dcc.Dropdown(\n",
    "            id='player-dropdown-bubble',\n",
    "            options=[{'label': player, 'value': player} for player in sheet_names],\n",
    "            value='KL Rahul',\n",
    "            style={'width': '50%'}\n",
    "        ),\n",
    "        dcc.Graph(id='bubble-plot'),\n",
    "    ], style={'display': 'inline-block', 'width': '100%', 'opacity': 0.74}),\n",
    "], style={'background-image': 'assets/Indiapic.png', 'background-size': 'cover', 'height': '100vh'})\n",
    "\n",
    "# Define callback to update Player Performances Line Chart\n",
    "@app.callback(\n",
    "    Output('line-chart', 'figure'),\n",
    "    [Input('line-chart', 'id')]\n",
    ")\n",
    "def update_line_chart(_):\n",
    "    fig = px.line(result_df, x='Criterias', y='Runs', color=result_df.index.get_level_values(0),\n",
    "                  labels={'Runs': 'Runs Scored', 'Criterias': 'Criterias'},\n",
    "                  title='Comparison of Runs Scored')\n",
    "    return fig\n",
    "\n",
    "# Define callback to update Bar Graph of Player Comparison\n",
    "@app.callback(\n",
    "    Output('bar-chart', 'figure'),\n",
    "    [Input('bar-chart', 'id')]\n",
    ")\n",
    "def update_bar_chart(_):\n",
    "    fig = px.bar(result_df, x='Criterias', y='Avg', color=result_df.index.get_level_values(0),\n",
    "                 labels={'Avg': 'Average Score', 'Criterias': 'Criterias'},hover_data=['Mat'],\n",
    "                 title='Comparison of Averages', barmode='group')\n",
    "    return fig\n",
    "\n",
    "# Define callback to update Scatter Plot with Dropdown\n",
    "@app.callback(\n",
    "    Output('bubble-plot', 'figure'),\n",
    "    [Input('player-dropdown-bubble', 'value')]\n",
    ")\n",
    "def update_bubble_plot(selected_player):\n",
    "    df = pd.read_excel(excel_file_path, sheet_name=selected_player)\n",
    "    fig = px.scatter(df, x='Criterias', y='SR', size='Runs', title=f'Bubble Plot - {selected_player}', hover_data=['Mat', 'Avg'],\n",
    "                     labels={'SR': 'Strike Rate', 'Criterias': 'Criterias', 'Runs': 'Runs'})\n",
    "    return fig\n",
    "\n",
    "# Run the app\n",
    "if __name__ == '__main__':\n",
    "    url = \"http://127.0.0.1:8095/\"\n",
    "    print(\"Click on the below link to view the complete dashboard!!\")\n",
    "    print(f\"Dashboard URL: {url}\")\n",
    "    app.run_server(debug=True, port=8095, mode='external')\n"
   ]
  },
  {
   "cell_type": "markdown",
   "metadata": {},
   "source": [
    "## 3. Background to the Project\n",
    "Indian Cricket team has seen a downfall in the results of Matches due to volatility in the number 4 position of the batting line up. The players are not being able to get adjusted to the frequent changes int eh team and it eventually affects their individual performances resulting in impacting the team performance as well.\n",
    "\n",
    "The project centres around the critical decision of selecting a permanent number four batsman in the cricket team, with a specific focus on evaluating the performances of KL Rahul, Shreyas Iyer, and Suryakumar Yadav. The significance of the number four position in a batting lineup cannot be overstated, as it often requires a player with versatility, adaptability, and consistent performance. In the context of cricket, the number four spot holds a pivotal role in stabilizing the innings, responding to different match situations, and setting the stage for power-hitting later in the order.\n",
    "\n",
    "The objective of this project is to thoroughly analyse the statistical performances of KL Rahul, Shreyas Iyer, and Suryakumar Yadav, ultimately aiming to support for Suryakumar Yadav as the most suitable candidate for the permanent number four position. Each player's Runs, averages, and strike rates are carefully examined, considering factors such as consistency, adaptability to different formats, and the ability to anchor the innings.\n",
    "\n",
    "Suryakumar Yadav emerges as a compelling choice, showcasing not only consistent run-scoring but also a versatile playing style that suits the demands of modern cricket. By providing context and background information on the players' historical performances, the project aims to shed light on the rationale behind the selection, emphasizing the strategic importance of having a reliable and dynamic batsman at the crucial number four position. The decision-making process involves a holistic assessment, considering both individual performances and their collective impact on the team's success.\n"
   ]
  },
  {
   "cell_type": "markdown",
   "metadata": {},
   "source": [
    "## 4. Articulation of Decision Making Process\n",
    "The main focus of this project is to stabilise the Indian cricket team for a particular format. Refer to blog post 1 on 11 December for further details on why this topic was chosen [ https://ele.exeter.ac.uk/mod/oublog/viewpost.php?post=34604]\n",
    "\n",
    "All the gathered data was dumped into an excel file and the cleansing of data was done. To know more about this, refer to the blog 2 on December 11 [https://ele.exeter.ac.uk/mod/oublog/viewpost.php?post=34606]\n",
    "\n",
    "During the plotting of various graphs for representing data, a bubble plot was found suitable to explain a certain data in a suitable format. To know more about why the bubble plot was chosen, refer to the blog post 3 on 11 December [https://ele.exeter.ac.uk/mod/oublog/viewpost.php?post=34607]\n",
    "\n",
    "A final dashboard was created which included the creaetd graphs and interactions to make it look visually pleasing."
   ]
  },
  {
   "cell_type": "markdown",
   "metadata": {},
   "source": [
    "## 5. Review of Analytics Methods Chosen\n",
    "The project's analytics methods, rooted in Muezner's visualization theory, are strategically crafted to support the decision to appoint Suryakumar Yadav as the permanent number four in the batting lineup. The principles emphasize the importance of effective communication through visualizations, and in this particular context, a web-based dashboard for showing the statistics serves as a dynamic and engaging medium.\n",
    "\n",
    "Aligned with Muezner's theory, the project initiates with a clear understanding of the audience- Captains, Head Coaches, and Cricket enthusiasts. Muezner's emphasis on defining the target audience aligns with the tailored approach taken in presenting key metrics such as Runs, Strike Rate, Boundaries, 50’s and 100’s and players-KL Rahul, Shreyas Iyer, and Suryakumar Yadav.\n",
    "\n",
    "The dashboard adheres to \"reveal, focus, context,\" starting with an overview (Reveal) that encapsulates high-level statistics, offering an immediate understanding of each player's performance. This approach aligns with Muezner's principle of designing for iconic memory, ensuring that stakeholders can quickly grasp and retain essential information.\n",
    "Moving into deeper analytics (Focus), the project highlights specific performance metrics through interactive visualizations. Muezner's theory encourages the use of visual elements to guide attention, and the project employs charts and graphs to draw focus to critical aspects, allowing audience to analyze and compare player statistics effectively.\n",
    "The final layer of detail in the dashboard, supported by Muezner's theory, involves providing comprehensive information about individual players. The visualizations not only convey statistical data but also tell a story about each player's strengths and weaknesses, providing a deeper understanding.\n",
    "\n",
    "Players in the graphs—KL Rahul, Shreyas Iyer, and Suryakumar Yadav—become narrative focal points within Muezner's visualization theory. By aligning with the principles, the project's visualizations become powerful tools for effective communication, facilitating informed decision-making in cricket strategy and player selection for the suitable spot.\n",
    "\n",
    "This Dashboard is created in accordance with the Cole's design process as well. Here is an explanation of how it is related. The 4 out of 5 Cole's strategies considered in this process are:\n",
    "1. Understanding the content: At this stage, it is necessary to know why a permanent player is to be assigned for a certain position, in this case the number 4 position. We need to consider the suitable statistics to showcase the information and deliver it in a way to help the audience understand the motive.\n",
    "2. Choose an appropriate display: A Pie chart or a Bar chart is not always suitable for displaying all sorts of data. It is always necessary to understand which is a suitable form of visualizing certain data. \n",
    "In the above dashboard, a bar chart for the averages shows the direct comparison between different players so it can directly give the information who might be a better choice. The Bubble plot is chosen to show the Strike rate at which a player is scoring runs. The size of the bubbles are needed to highlight on the number of runs. Bigger the bubble, better is the player’s performance in that aspect. \n",
    "3. Draw attention where you want it: Even though all the graphs do not draw attention, every graph gives out vital information. In case of the Bubble plot, it is necessary to know the runs scored as well with the striking rate of the particular player. So, a Bubble plot is a better choice than just a bar graph or a scatter plot as it evidently shows by highlighting the runs by increasing or decreasing the size of bubbles. \n",
    "4. Think like a Designer and tell a story: This dashboard’s main motive is to select a player for the chosen spot. With the graphs in above dashboard and the narrative of what is tells, the information can be effectively delivered to the right audience.\n",
    "\n"
   ]
  },
  {
   "cell_type": "markdown",
   "metadata": {},
   "source": [
    "## 6. Review of Available Tools\n",
    "In selecting the tools and technologies for the project, several robust options were available, each carrying variety of advantages and disadvantages. The popular choices for creating an interactive dashboard were Power BI, Tableau, and Python Dash.\n",
    "\n",
    "PowerBI, a Microsoft product, offers a user-friendly interface and seamless integration with other Microsoft services. Its strength lies in quick deployment and ease of use, making it an attractive choice for businesses heavily invested in the Microsoft ecosystem. However, its licensing costs and limited customization capabilities posed potential barriers. Additionally, the cloud dependency might be a concern for users in regions with restricted internet access.\n",
    "\n",
    "Tableau, renowned for its powerful visualization capabilities, provides a dynamic platform for data exploration. Its drag-and-drop interface appeals to users with varied technical expertise, promoting accessibility. However, as Power BI, its licensing costs can be prohibitive for small-scale projects, and customization may demand a steeper learning curve.\n",
    "\n",
    "Python Dash, chosen for this project, emerged as a versatile and cost-effective alternative. It leverages Python, a widely-used and comparatively easier programming language, enabling seamless integration with other Python libraries for data manipulation and analysis. Dash's open-source nature ensures flexibility and customization, critical for tailoring visualizations to specific cricket metrics. The familiarity of Python among data scientists and analysts contributes to a quicker learning curve, facilitating efficient development.\n",
    "\n",
    "The decision to opt for Python Dash was grounded in the project's specific needs. The dynamic nature of cricket data demanded real-time interactivity, a feature impeccably delivered by Dash. Its integration with Plotly, a powerful graphing library, provided an extensive array of visualization options. Python Dash also aligns with the project's overarching goal of transparency, as audience can access and comprehend the underlying code, fostering collaboration and learning.\n"
   ]
  },
  {
   "cell_type": "markdown",
   "metadata": {},
   "source": [
    "## 7. Review of Chosen Datasets \n",
    " \n",
    "The dashboard above has been created with the help of data in the Excel file containing 3 sheets which has the statistics of KL Rahul, Shreyas Iyer and SuryaKumar Yadav respectively. The data available in the link provided above contains a lot of unwanted information such as under which Captain the player has played. Even though information like these are necessary for deeper diving into the topic, it is not necessary to tell how a player is suitable for number 4 position. The data was filtered in such a way that the key criterias were filtered out to show a player's performance. \n",
    "Certain criterias were blank for a certain player as he did not qualify for the criteria chosen. For example, Suryakumar has never batted in Position 1 and KL Rahul has never played in Position 5. So the empty data had to be filled with a null value to avoid missing data or any other error while running the python code. \n",
    "After considerations and refinement, the selected dataset chose to be appropriate to deliver the data to the audience effectively. \n"
   ]
  },
  {
   "cell_type": "markdown",
   "metadata": {},
   "source": [
    "## 8. Visualisation of Data with Accompanying Code"
   ]
  },
  {
   "cell_type": "code",
   "execution_count": 15,
   "metadata": {},
   "outputs": [],
   "source": [
    "import pandas as pd\n",
    "import plotly.express as px\n",
    "\n",
    "# Loading data from Excel sheets\n",
    "excel_file_path = 'mydata1.xlsx'\n",
    "sheet_names = ['KL Rahul', 'Shreyas Iyer', 'SKY']\n",
    "data_frames = [pd.read_excel(excel_file_path, sheet_name=sheet_name) for sheet_name in sheet_names]\n",
    "result_df = pd.concat(data_frames, keys=sheet_names)\n",
    "\n",
    "# Plotting the Bar Graph\n",
    "fig = px.bar(result_df, x='Criterias', y='Avg', color=result_df.index.get_level_values(0),\n",
    "             labels={'Avg': 'Average Score', 'Criterias': 'Criterias'}, hover_data=['Mat'],\n",
    "             title='Comparison of Averages', barmode='group')\n",
    "\n",
    "# Showing the Bar Graph\n",
    "fig.show()\n"
   ]
  },
  {
   "cell_type": "markdown",
   "metadata": {},
   "source": [
    "The above Bar graph was chosen to compare between the averages of all thhe 3 players in  a single frame. Adding the hover information about the Matches played in that particular criteria tells us if the average has been maintained over a course of more number of games."
   ]
  },
  {
   "cell_type": "code",
   "execution_count": 21,
   "metadata": {},
   "outputs": [],
   "source": [
    "import plotly.express as px\n",
    "import pandas as pd\n",
    "\n",
    "# Load data from Excel sheets\n",
    "excel_file_path = 'mydata1.xlsx'\n",
    "sheet_names = ['KL Rahul', 'Shreyas Iyer', 'SKY']\n",
    "data_frames = [pd.read_excel(excel_file_path, sheet_name=sheet_name) for sheet_name in sheet_names]\n",
    "result_df = pd.concat(data_frames, keys=sheet_names)\n",
    "\n",
    "# Select a player for the bubble plot\n",
    "selected_player = 'KL Rahul'\n",
    "df = pd.read_excel(excel_file_path, sheet_name=selected_player)\n",
    "\n",
    "# Create Bubble Plot\n",
    "fig = px.scatter(df, x='Criterias', y='SR', size='Runs', title=f'Bubble Plot - {selected_player}', hover_data=['Mat', 'Avg'],\n",
    "                 labels={'SR': 'Strike Rate', 'Criterias': 'Criterias', 'Runs': 'Runs'})\n",
    "\n",
    "# Show the plot\n",
    "fig.show()\n"
   ]
  },
  {
   "cell_type": "markdown",
   "metadata": {},
   "source": [
    "Consider the above graph only for KL Rahul. A scatter plot would just give out strike rates in different criterias. Adding a bubble plot gives way to adding another parameter where Runs was added to make the plot look intense. It gives out information on how many runs were scored in what strike rate.  "
   ]
  },
  {
   "cell_type": "markdown",
   "metadata": {},
   "source": [
    "## 9. Reflective Evaluation\n",
    "\n",
    "Being a Cricket enthusiast myself, this project was an exciting and informative. I could explain the necessity of the topic and my suggestions based on my findings.\n",
    "Even though it was an engaging project, there were certain challenges associated with it. \n",
    "1. Cleaning out the data from a huge dataset was a challenging task. Choosing only certain criterias and filling up empty spaces in the data set was quite a task.\n",
    "2. As Dash is a new learnt library, getting familarised with it at the beginning was difficult. Too many errors popped up during the course of the project. \n",
    "\n"
   ]
  },
  {
   "cell_type": "markdown",
   "metadata": {},
   "source": [
    "## 10. Conclusion\n",
    "In spite of all the difficulties faced, there were perks associated with it. \n",
    "1. Learning how to clean data in excel and getting familiarised with data manipulations in Excel.\n",
    "2. Learning about the Dash library and the html modules associated with it with hands-on experience.\n",
    "3. Resolving the errors and finally being able to display the required dashboard was encouraging.\n",
    "\n",
    "With the help of this project, I could clearly understand how Visualization helps in bringing data into life and how easy a Dashboard makes it to deliver the required information in the best possible way to the right audience.\n",
    "\n",
    "Overall, this project helped me in gaining a lot of knowledge related to every topic that I have used and boosted the already existing urge to deep diver into analysing and visualising data to help sports teams or players to improve their performances."
   ]
  },
  {
   "cell_type": "markdown",
   "metadata": {},
   "source": [
    "\n",
    "## References\n",
    "ESPN CricInfo. (n.d.). ESPNCricInfo. https://www.espncricinfo.com/\n",
    "\n",
    "OpenAI. (n.d.). ChatGPT. https://chat.openai.com/\n",
    "\n",
    "Plotly. (n.d.). Plotly: The front end for ML and data science models. https://plotly.com/\n",
    "\n",
    "Dash. (n.d.). Dash framework documentation. https://dash.plotly.com/"
   ]
  },
  {
   "cell_type": "markdown",
   "metadata": {},
   "source": []
  }
 ],
 "metadata": {
  "kernelspec": {
   "display_name": "base",
   "language": "python",
   "name": "python3"
  },
  "language_info": {
   "codemirror_mode": {
    "name": "ipython",
    "version": 3
   },
   "file_extension": ".py",
   "mimetype": "text/x-python",
   "name": "python",
   "nbconvert_exporter": "python",
   "pygments_lexer": "ipython3",
   "version": "3.8.8"
  },
  "orig_nbformat": 4
 },
 "nbformat": 4,
 "nbformat_minor": 2
}
